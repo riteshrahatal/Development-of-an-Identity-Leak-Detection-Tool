{
 "cells": [
  {
   "cell_type": "code",
   "execution_count": null,
   "id": "171a6282",
   "metadata": {},
   "outputs": [
    {
     "name": "stdout",
     "output_type": "stream",
     "text": [
      " * Serving Flask app '__main__'\n",
      " * Debug mode: on\n"
     ]
    },
    {
     "name": "stderr",
     "output_type": "stream",
     "text": [
      "WARNING: This is a development server. Do not use it in a production deployment. Use a production WSGI server instead.\n",
      " * Running on http://127.0.0.1:5000\n",
      "Press CTRL+C to quit\n",
      "127.0.0.1 - - [10/Aug/2024 17:57:42] \"GET / HTTP/1.1\" 200 -\n",
      "127.0.0.1 - - [10/Aug/2024 17:57:42] \"GET /favicon.ico HTTP/1.1\" 404 -\n"
     ]
    },
    {
     "name": "stdout",
     "output_type": "stream",
     "text": [
      "Processing file: uploads/leakdataset.txt\n",
      "Data loaded into DataFrame:\n",
      "                  email  password\n",
      "0  tana_2001-10@mail.ru    dragon\n",
      "1       loki_98@mail.ru    monkey\n",
      "2      olgagold07@bk.ru  football\n",
      "3      detka_zu@mail.ru  1234589a\n",
      "4  vova_sokolik@mail.ru   volokos\n"
     ]
    },
    {
     "name": "stderr",
     "output_type": "stream",
     "text": [
      "127.0.0.1 - - [10/Aug/2024 17:57:48] \"POST /upload HTTP/1.1\" 200 -\n"
     ]
    },
    {
     "name": "stdout",
     "output_type": "stream",
     "text": [
      "Data inserted into MongoDB\n"
     ]
    }
   ],
   "source": [
    "import os\n",
    "import pandas as pd\n",
    "from flask import Flask, request, redirect, url_for, render_template_string\n",
    "from pymongo import MongoClient\n",
    "\n",
    "app = Flask(__name__)\n",
    "app.config['UPLOAD_FOLDER'] = 'uploads/'\n",
    "app.config['CLEANED_FOLDER'] = 'cleaned_data/'\n",
    "\n",
    "# Ensure the upload and cleaned data folders exist\n",
    "if not os.path.exists(app.config['UPLOAD_FOLDER']):\n",
    "    os.makedirs(app.config['UPLOAD_FOLDER'])\n",
    "\n",
    "if not os.path.exists(app.config['CLEANED_FOLDER']):\n",
    "    os.makedirs(app.config['CLEANED_FOLDER'])\n",
    "\n",
    "# Define the HTML template as a string\n",
    "html_template = '''\n",
    "<!DOCTYPE html>\n",
    "<html lang=\"en\">\n",
    "<head>\n",
    "    <meta charset=\"UTF-8\">\n",
    "    <meta name=\"viewport\" content=\"width=device-width, initial-scale=1.0\">\n",
    "    <title>Upload Leaked Data</title>\n",
    "</head>\n",
    "<body>\n",
    "    <h1>Upload Leaked Data</h1>\n",
    "    <form action=\"/upload\" method=\"post\" enctype=\"multipart/form-data\">\n",
    "        <label for=\"file\">Choose text file:</label>\n",
    "        <input type=\"file\" id=\"file\" name=\"file\" accept=\".txt\">\n",
    "        <button type=\"submit\">Upload</button>\n",
    "    </form>\n",
    "    {% if data %}\n",
    "    <h2>Data Summary</h2>\n",
    "    <table border=\"1\">\n",
    "        <tr>\n",
    "            <th>Email</th>\n",
    "            <th>Password</th>\n",
    "        </tr>\n",
    "        {% for row in data %}\n",
    "        <tr>\n",
    "            <td>{{ row['email'] }}</td>\n",
    "            <td>{{ row['password'] }}</td>\n",
    "        </tr>\n",
    "        {% endfor %}\n",
    "    </table>\n",
    "    {% if cleaned_file %}\n",
    "    <p>Cleaned data saved to: <a href=\"{{ cleaned_file }}\" target=\"_blank\">{{ cleaned_file }}</a></p>\n",
    "    {% endif %}\n",
    "    {% endif %}\n",
    "</body>\n",
    "</html>\n",
    "'''\n",
    "\n",
    "@app.route('/')\n",
    "def index():\n",
    "    return render_template_string(html_template)\n",
    "\n",
    "@app.route('/upload', methods=['POST'])\n",
    "def upload_file():\n",
    "    try:\n",
    "        if 'file' not in request.files:\n",
    "            return redirect(request.url)\n",
    "        \n",
    "        file = request.files['file']\n",
    "        if file.filename == '':\n",
    "            return redirect(request.url)\n",
    "        \n",
    "        if file and file.filename.endswith('.txt'):\n",
    "            filepath = os.path.join(app.config['UPLOAD_FOLDER'], file.filename)\n",
    "            file.save(filepath)\n",
    "            \n",
    "            # Process the file\n",
    "            try:\n",
    "                data, cleaned_file_path = process_file(filepath)\n",
    "                return render_template_string(html_template, data=data, cleaned_file=cleaned_file_path)\n",
    "            except Exception as e:\n",
    "                return f\"An error occurred during file processing: {e}\"\n",
    "        \n",
    "        return 'Invalid file format. Please upload a .txt file.'\n",
    "    except Exception as e:\n",
    "        return f\"An error occurred during file upload: {e}\"\n",
    "\n",
    "def process_file(filepath):\n",
    "    try:\n",
    "        print(f\"Processing file: {filepath}\")\n",
    "        data = pd.read_csv(filepath, sep=':', header=None, names=['email', 'password'])\n",
    "        print(\"Data loaded into DataFrame:\")\n",
    "        print(data.head())\n",
    "        \n",
    "        # Clean the data (drop duplicates, handle missing values)\n",
    "        data.dropna(inplace=True)\n",
    "        data.drop_duplicates(inplace=True)\n",
    "        \n",
    "        # Save the cleaned data to a new file\n",
    "        cleaned_file_path = os.path.join(app.config['CLEANED_FOLDER'], f\"cleaned_{os.path.basename(filepath)}\")\n",
    "        data.to_csv(cleaned_file_path, index=False, sep=':')\n",
    "        \n",
    "        # Store the data in MongoDB\n",
    "        store_in_mongodb(data)\n",
    "        return data.to_dict('records'), cleaned_file_path\n",
    "    except Exception as e:\n",
    "        print(f\"Error processing file: {e}\")\n",
    "        raise\n",
    "\n",
    "def store_in_mongodb(data):\n",
    "    try:\n",
    "        client = MongoClient('mongodb://localhost:27017/')\n",
    "        db = client['leaked_data']\n",
    "        collection = db['leaks']\n",
    "        collection.insert_many(data.to_dict('records'))\n",
    "        print(\"Data inserted into MongoDB\")\n",
    "    except Exception as e:\n",
    "        print(f\"Error storing data in MongoDB: {e}\")\n",
    "        raise\n",
    "\n",
    "if __name__ == '__main__':\n",
    "    app.run(debug=True, use_reloader=False)\n"
   ]
  },
  {
   "cell_type": "code",
   "execution_count": null,
   "id": "7c15e626",
   "metadata": {},
   "outputs": [],
   "source": [
    "from threading import Thread\n",
    "\n",
    "def run_flask():\n",
    "    app.run(debug=True, use_reloader=False)\n",
    "\n",
    "# Start Flask in a separate thread\n",
    "flask_thread = Thread(target=run_flask)\n",
    "flask_thread.start()"
   ]
  },
  {
   "cell_type": "code",
   "execution_count": null,
   "id": "32032f43",
   "metadata": {},
   "outputs": [],
   "source": []
  },
  {
   "cell_type": "code",
   "execution_count": null,
   "id": "5183ce05",
   "metadata": {},
   "outputs": [],
   "source": [
    "\n"
   ]
  },
  {
   "cell_type": "code",
   "execution_count": null,
   "id": "b2dfd3b4",
   "metadata": {},
   "outputs": [],
   "source": []
  }
 ],
 "metadata": {
  "kernelspec": {
   "display_name": "Python 3 (ipykernel)",
   "language": "python",
   "name": "python3"
  },
  "language_info": {
   "codemirror_mode": {
    "name": "ipython",
    "version": 3
   },
   "file_extension": ".py",
   "mimetype": "text/x-python",
   "name": "python",
   "nbconvert_exporter": "python",
   "pygments_lexer": "ipython3",
   "version": "3.11.3"
  }
 },
 "nbformat": 4,
 "nbformat_minor": 5
}
